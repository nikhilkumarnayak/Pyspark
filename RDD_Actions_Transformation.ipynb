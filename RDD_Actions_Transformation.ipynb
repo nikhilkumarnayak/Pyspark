{
 "cells": [
  {
   "cell_type": "markdown",
   "id": "7987504e",
   "metadata": {},
   "source": [
    "# RDD(Actions & Transformation)"
   ]
  },
  {
   "cell_type": "markdown",
   "id": "dd49dc46",
   "metadata": {},
   "source": [
    "## import packages"
   ]
  },
  {
   "cell_type": "code",
   "execution_count": 144,
   "id": "3586a818",
   "metadata": {},
   "outputs": [],
   "source": [
    "import os\n",
    "import sys\n",
    "\n",
    "os.environ['PYSPARK_PYTHON'] = sys.executable\n",
    "os.environ['PYSPARK_DRIVER_PYTHON'] = sys.executable"
   ]
  },
  {
   "cell_type": "markdown",
   "id": "0a4fbdcc",
   "metadata": {},
   "source": [
    "#### Access the local spark host :- http://localhost:4040/jobs/ "
   ]
  },
  {
   "cell_type": "markdown",
   "id": "9ff3ebf3",
   "metadata": {},
   "source": [
    "## Creation SparkContext"
   ]
  },
  {
   "cell_type": "code",
   "execution_count": 2,
   "id": "709c4430",
   "metadata": {},
   "outputs": [],
   "source": [
    "from pyspark import SparkContext,SparkConf"
   ]
  },
  {
   "cell_type": "code",
   "execution_count": 3,
   "id": "fdb074c8",
   "metadata": {},
   "outputs": [],
   "source": [
    "sc = SparkContext()"
   ]
  },
  {
   "cell_type": "code",
   "execution_count": 4,
   "id": "bdabc9f9",
   "metadata": {},
   "outputs": [],
   "source": [
    "a = sc.parallelize([1,2,3,4])"
   ]
  },
  {
   "cell_type": "code",
   "execution_count": 5,
   "id": "bfa80f91",
   "metadata": {},
   "outputs": [
    {
     "data": {
      "text/plain": [
       "[1, 2, 3, 4]"
      ]
     },
     "execution_count": 5,
     "metadata": {},
     "output_type": "execute_result"
    }
   ],
   "source": [
    "a.collect()"
   ]
  },
  {
   "cell_type": "code",
   "execution_count": 6,
   "id": "3b4383ec",
   "metadata": {},
   "outputs": [
    {
     "data": {
      "text/plain": [
       "pyspark.rdd.RDD"
      ]
     },
     "execution_count": 6,
     "metadata": {},
     "output_type": "execute_result"
    }
   ],
   "source": [
    "type(a)"
   ]
  },
  {
   "cell_type": "code",
   "execution_count": 143,
   "id": "c1eb0200",
   "metadata": {},
   "outputs": [
    {
     "data": {
      "text/plain": [
       "[1]"
      ]
     },
     "execution_count": 143,
     "metadata": {},
     "output_type": "execute_result"
    }
   ],
   "source": [
    "a.take(1)"
   ]
  },
  {
   "cell_type": "code",
   "execution_count": 10,
   "id": "ef20de1d",
   "metadata": {},
   "outputs": [],
   "source": [
    "sc.stop()\n"
   ]
  },
  {
   "cell_type": "markdown",
   "id": "7c6ffb0f",
   "metadata": {},
   "source": [
    "### First way to create SparkContext"
   ]
  },
  {
   "cell_type": "code",
   "execution_count": 11,
   "id": "6bba6aa8",
   "metadata": {},
   "outputs": [],
   "source": [
    "conf = SparkConf().setAppName('demo').setMaster(\"local\")"
   ]
  },
  {
   "cell_type": "code",
   "execution_count": 12,
   "id": "2dfdddce",
   "metadata": {},
   "outputs": [],
   "source": [
    "sc = SparkContext(conf=conf)"
   ]
  },
  {
   "cell_type": "code",
   "execution_count": 13,
   "id": "eea98e11",
   "metadata": {},
   "outputs": [
    {
     "data": {
      "text/plain": [
       "[('spark.master', 'local'),\n",
       " ('spark.driver.extraJavaOptions',\n",
       "  '-XX:+IgnoreUnrecognizedVMOptions --add-opens=java.base/java.lang=ALL-UNNAMED --add-opens=java.base/java.lang.invoke=ALL-UNNAMED --add-opens=java.base/java.lang.reflect=ALL-UNNAMED --add-opens=java.base/java.io=ALL-UNNAMED --add-opens=java.base/java.net=ALL-UNNAMED --add-opens=java.base/java.nio=ALL-UNNAMED --add-opens=java.base/java.util=ALL-UNNAMED --add-opens=java.base/java.util.concurrent=ALL-UNNAMED --add-opens=java.base/java.util.concurrent.atomic=ALL-UNNAMED --add-opens=java.base/sun.nio.ch=ALL-UNNAMED --add-opens=java.base/sun.nio.cs=ALL-UNNAMED --add-opens=java.base/sun.security.action=ALL-UNNAMED --add-opens=java.base/sun.util.calendar=ALL-UNNAMED --add-opens=java.security.jgss/sun.security.krb5=ALL-UNNAMED'),\n",
       " ('spark.app.startTime', '1681137700117'),\n",
       " ('spark.driver.host', 'LAPTOP-V52JLPR4'),\n",
       " ('spark.app.submitTime', '1681137543820'),\n",
       " ('spark.executor.id', 'driver'),\n",
       " ('spark.app.id', 'local-1681137700182'),\n",
       " ('spark.app.name', 'demo'),\n",
       " ('spark.rdd.compress', 'True'),\n",
       " ('spark.executor.extraJavaOptions',\n",
       "  '-XX:+IgnoreUnrecognizedVMOptions --add-opens=java.base/java.lang=ALL-UNNAMED --add-opens=java.base/java.lang.invoke=ALL-UNNAMED --add-opens=java.base/java.lang.reflect=ALL-UNNAMED --add-opens=java.base/java.io=ALL-UNNAMED --add-opens=java.base/java.net=ALL-UNNAMED --add-opens=java.base/java.nio=ALL-UNNAMED --add-opens=java.base/java.util=ALL-UNNAMED --add-opens=java.base/java.util.concurrent=ALL-UNNAMED --add-opens=java.base/java.util.concurrent.atomic=ALL-UNNAMED --add-opens=java.base/sun.nio.ch=ALL-UNNAMED --add-opens=java.base/sun.nio.cs=ALL-UNNAMED --add-opens=java.base/sun.security.action=ALL-UNNAMED --add-opens=java.base/sun.util.calendar=ALL-UNNAMED --add-opens=java.security.jgss/sun.security.krb5=ALL-UNNAMED'),\n",
       " ('spark.serializer.objectStreamReset', '100'),\n",
       " ('spark.submit.pyFiles', ''),\n",
       " ('spark.submit.deployMode', 'client'),\n",
       " ('spark.ui.showConsoleProgress', 'true'),\n",
       " ('spark.driver.port', '59957')]"
      ]
     },
     "execution_count": 13,
     "metadata": {},
     "output_type": "execute_result"
    }
   ],
   "source": [
    "sc.getConf().getAll()"
   ]
  },
  {
   "cell_type": "code",
   "execution_count": 14,
   "id": "450ed2b1",
   "metadata": {},
   "outputs": [],
   "source": [
    "sc.stop()"
   ]
  },
  {
   "cell_type": "markdown",
   "id": "03f0aa45",
   "metadata": {},
   "source": [
    "### 2nd way of create SparkContext"
   ]
  },
  {
   "cell_type": "code",
   "execution_count": 15,
   "id": "502fb1e3",
   "metadata": {},
   "outputs": [],
   "source": [
    "sc = SparkContext()"
   ]
  },
  {
   "cell_type": "code",
   "execution_count": 16,
   "id": "2ec0c155",
   "metadata": {},
   "outputs": [
    {
     "data": {
      "text/plain": [
       "[('spark.driver.extraJavaOptions',\n",
       "  '-XX:+IgnoreUnrecognizedVMOptions --add-opens=java.base/java.lang=ALL-UNNAMED --add-opens=java.base/java.lang.invoke=ALL-UNNAMED --add-opens=java.base/java.lang.reflect=ALL-UNNAMED --add-opens=java.base/java.io=ALL-UNNAMED --add-opens=java.base/java.net=ALL-UNNAMED --add-opens=java.base/java.nio=ALL-UNNAMED --add-opens=java.base/java.util=ALL-UNNAMED --add-opens=java.base/java.util.concurrent=ALL-UNNAMED --add-opens=java.base/java.util.concurrent.atomic=ALL-UNNAMED --add-opens=java.base/sun.nio.ch=ALL-UNNAMED --add-opens=java.base/sun.nio.cs=ALL-UNNAMED --add-opens=java.base/sun.security.action=ALL-UNNAMED --add-opens=java.base/sun.util.calendar=ALL-UNNAMED --add-opens=java.security.jgss/sun.security.krb5=ALL-UNNAMED'),\n",
       " ('spark.app.id', 'local-1681137842909'),\n",
       " ('spark.driver.host', 'LAPTOP-V52JLPR4'),\n",
       " ('spark.app.startTime', '1681137842837'),\n",
       " ('spark.driver.port', '59978'),\n",
       " ('spark.app.submitTime', '1681137543820'),\n",
       " ('spark.executor.id', 'driver'),\n",
       " ('spark.app.name', 'pyspark-shell'),\n",
       " ('spark.rdd.compress', 'True'),\n",
       " ('spark.executor.extraJavaOptions',\n",
       "  '-XX:+IgnoreUnrecognizedVMOptions --add-opens=java.base/java.lang=ALL-UNNAMED --add-opens=java.base/java.lang.invoke=ALL-UNNAMED --add-opens=java.base/java.lang.reflect=ALL-UNNAMED --add-opens=java.base/java.io=ALL-UNNAMED --add-opens=java.base/java.net=ALL-UNNAMED --add-opens=java.base/java.nio=ALL-UNNAMED --add-opens=java.base/java.util=ALL-UNNAMED --add-opens=java.base/java.util.concurrent=ALL-UNNAMED --add-opens=java.base/java.util.concurrent.atomic=ALL-UNNAMED --add-opens=java.base/sun.nio.ch=ALL-UNNAMED --add-opens=java.base/sun.nio.cs=ALL-UNNAMED --add-opens=java.base/sun.security.action=ALL-UNNAMED --add-opens=java.base/sun.util.calendar=ALL-UNNAMED --add-opens=java.security.jgss/sun.security.krb5=ALL-UNNAMED'),\n",
       " ('spark.serializer.objectStreamReset', '100'),\n",
       " ('spark.master', 'local[*]'),\n",
       " ('spark.submit.pyFiles', ''),\n",
       " ('spark.submit.deployMode', 'client'),\n",
       " ('spark.ui.showConsoleProgress', 'true')]"
      ]
     },
     "execution_count": 16,
     "metadata": {},
     "output_type": "execute_result"
    }
   ],
   "source": [
    "sc.getConf().getAll()"
   ]
  },
  {
   "cell_type": "code",
   "execution_count": 42,
   "id": "4ac5d745",
   "metadata": {},
   "outputs": [],
   "source": [
    "sc.stop()"
   ]
  },
  {
   "cell_type": "markdown",
   "id": "1d1f2a0e",
   "metadata": {},
   "source": [
    "### Thrid way of create a SparkConext"
   ]
  },
  {
   "cell_type": "code",
   "execution_count": 43,
   "id": "4725b180",
   "metadata": {},
   "outputs": [],
   "source": [
    "sc = SparkContext(\"local\",\"First App\")"
   ]
  },
  {
   "cell_type": "markdown",
   "id": "9899b3bc",
   "metadata": {},
   "source": [
    "RDD (Reseient Distributed Dataset):-\n",
    "1. RDD is an immutable Distribution collections object(As per in spark).\n",
    "2. RDD can create by HDFS storage, Local storage,csv storage like an database\n",
    "3. RDD can split in multiple partitions, which may be computed on different node in cluster.\n",
    "4. RDD is much like and Dataset.\n",
    "5. RDD spilts with child and main nodes.\n"
   ]
  },
  {
   "cell_type": "code",
   "execution_count": 19,
   "id": "7ebb90c1",
   "metadata": {},
   "outputs": [],
   "source": [
    "from IPython.display import Image"
   ]
  },
  {
   "cell_type": "code",
   "execution_count": 21,
   "id": "a22379e1",
   "metadata": {},
   "outputs": [],
   "source": [
    "# Image(filename='RDD_intro.jpg')"
   ]
  },
  {
   "cell_type": "markdown",
   "id": "e8a48274",
   "metadata": {},
   "source": [
    "Transformation vs Action :-\n",
    "1. Tranformation create the RDDs. When ever we request then only an RDD is created as output. When we request an operation it will create an DAG for the process. \n",
    "2. Action Gives the value. When you apply and action on the RDD then excute all the transformation applied on RDD.\n",
    "   That why spark action are lazzy."
   ]
  },
  {
   "cell_type": "markdown",
   "id": "a10656d9",
   "metadata": {},
   "source": [
    "## Create a RDD and their Basic Actions"
   ]
  },
  {
   "cell_type": "code",
   "execution_count": 44,
   "id": "a6e7b14d",
   "metadata": {},
   "outputs": [],
   "source": [
    "names = sc.parallelize(['Adam','Cray','Shuan','Brain','Shail','Satya','Jhon'])"
   ]
  },
  {
   "cell_type": "code",
   "execution_count": 45,
   "id": "5a300902",
   "metadata": {},
   "outputs": [
    {
     "data": {
      "text/plain": [
       "pyspark.rdd.RDD"
      ]
     },
     "execution_count": 45,
     "metadata": {},
     "output_type": "execute_result"
    }
   ],
   "source": [
    "type(names)"
   ]
  },
  {
   "cell_type": "code",
   "execution_count": 46,
   "id": "58ebfb37",
   "metadata": {},
   "outputs": [
    {
     "data": {
      "text/plain": [
       "['Adam', 'Cray', 'Shuan', 'Brain', 'Shail', 'Satya', 'Jhon']"
      ]
     },
     "execution_count": 46,
     "metadata": {},
     "output_type": "execute_result"
    }
   ],
   "source": [
    "a = names.collect()\n",
    "a"
   ]
  },
  {
   "cell_type": "code",
   "execution_count": 47,
   "id": "fcb038fd",
   "metadata": {},
   "outputs": [
    {
     "data": {
      "text/plain": [
       "list"
      ]
     },
     "execution_count": 47,
     "metadata": {},
     "output_type": "execute_result"
    }
   ],
   "source": [
    "type(a)"
   ]
  },
  {
   "cell_type": "code",
   "execution_count": 49,
   "id": "4192553f",
   "metadata": {},
   "outputs": [],
   "source": [
    "# a.countByValue()"
   ]
  },
  {
   "cell_type": "code",
   "execution_count": 48,
   "id": "f74155cd",
   "metadata": {},
   "outputs": [
    {
     "data": {
      "text/plain": [
       "defaultdict(int,\n",
       "            {'Adam': 1,\n",
       "             'Cray': 1,\n",
       "             'Shuan': 1,\n",
       "             'Brain': 1,\n",
       "             'Shail': 1,\n",
       "             'Satya': 1,\n",
       "             'Jhon': 1})"
      ]
     },
     "execution_count": 48,
     "metadata": {},
     "output_type": "execute_result"
    }
   ],
   "source": [
    "names.countByValue()"
   ]
  },
  {
   "cell_type": "code",
   "execution_count": 58,
   "id": "fc09c8d8",
   "metadata": {},
   "outputs": [
    {
     "data": {
      "text/plain": [
       "['Adam']"
      ]
     },
     "execution_count": 58,
     "metadata": {},
     "output_type": "execute_result"
    }
   ],
   "source": [
    "names.take(1)"
   ]
  },
  {
   "cell_type": "code",
   "execution_count": 51,
   "id": "8305d7b8",
   "metadata": {},
   "outputs": [],
   "source": [
    "#foreach\n",
    "def f(x):print(x)\n",
    "a = sc.parallelize([1,2,3,4,5]).foreach(lambda x: print(x))"
   ]
  },
  {
   "cell_type": "code",
   "execution_count": 52,
   "id": "cfae196a",
   "metadata": {},
   "outputs": [
    {
     "data": {
      "text/plain": [
       "NoneType"
      ]
     },
     "execution_count": 52,
     "metadata": {},
     "output_type": "execute_result"
    }
   ],
   "source": [
    "type(a)"
   ]
  },
  {
   "cell_type": "code",
   "execution_count": 55,
   "id": "4ee01c67",
   "metadata": {},
   "outputs": [],
   "source": [
    "a = sc.parallelize([(1,2),(2,4)])"
   ]
  },
  {
   "cell_type": "code",
   "execution_count": 56,
   "id": "fc711028",
   "metadata": {},
   "outputs": [
    {
     "data": {
      "text/plain": [
       "defaultdict(int, {(1, 2): 1, (2, 4): 1})"
      ]
     },
     "execution_count": 56,
     "metadata": {},
     "output_type": "execute_result"
    }
   ],
   "source": [
    "a.countByValue()"
   ]
  },
  {
   "cell_type": "code",
   "execution_count": 65,
   "id": "cb56e5ba",
   "metadata": {},
   "outputs": [],
   "source": [
    "## reading from file\n",
    "emp = sc.textFile('emp.txt')"
   ]
  },
  {
   "cell_type": "code",
   "execution_count": 66,
   "id": "b7cc44be",
   "metadata": {},
   "outputs": [
    {
     "data": {
      "text/plain": [
       "[\"'Adam'\",\n",
       " \"'Cray'\",\n",
       " \"'Shuan'\",\n",
       " \"'Brain'\",\n",
       " \"'Shail'\",\n",
       " \"'Satya'\",\n",
       " \"'Jhon'\",\n",
       " \"'Brain'\"]"
      ]
     },
     "execution_count": 66,
     "metadata": {},
     "output_type": "execute_result"
    }
   ],
   "source": [
    "emp.collect()"
   ]
  },
  {
   "cell_type": "code",
   "execution_count": 64,
   "id": "10a7c0c4",
   "metadata": {},
   "outputs": [
    {
     "data": {
      "text/plain": [
       "\"'Adam'\""
      ]
     },
     "execution_count": 64,
     "metadata": {},
     "output_type": "execute_result"
    }
   ],
   "source": [
    "emp.first()"
   ]
  },
  {
   "cell_type": "code",
   "execution_count": 67,
   "id": "bd0f2c4b",
   "metadata": {},
   "outputs": [
    {
     "data": {
      "text/plain": [
       "7"
      ]
     },
     "execution_count": 67,
     "metadata": {},
     "output_type": "execute_result"
    }
   ],
   "source": [
    "emp.distinct().count()"
   ]
  },
  {
   "cell_type": "markdown",
   "id": "a226a03f",
   "metadata": {},
   "source": [
    "#### Taking Number example for better clarity"
   ]
  },
  {
   "cell_type": "code",
   "execution_count": 68,
   "id": "9a3b4fe8",
   "metadata": {},
   "outputs": [],
   "source": [
    "num = sc.parallelize([5,5,4,3,2,9,2])"
   ]
  },
  {
   "cell_type": "code",
   "execution_count": 69,
   "id": "d40615e1",
   "metadata": {},
   "outputs": [
    {
     "data": {
      "text/plain": [
       "defaultdict(int, {5: 2, 4: 1, 3: 1, 2: 2, 9: 1})"
      ]
     },
     "execution_count": 69,
     "metadata": {},
     "output_type": "execute_result"
    }
   ],
   "source": [
    "num.countByValue()"
   ]
  },
  {
   "cell_type": "code",
   "execution_count": 70,
   "id": "143799bf",
   "metadata": {},
   "outputs": [
    {
     "data": {
      "text/plain": [
       "pyspark.rdd.RDD"
      ]
     },
     "execution_count": 70,
     "metadata": {},
     "output_type": "execute_result"
    }
   ],
   "source": [
    "type(num)"
   ]
  },
  {
   "cell_type": "code",
   "execution_count": 71,
   "id": "a0f00cb0",
   "metadata": {},
   "outputs": [
    {
     "data": {
      "text/plain": [
       "5"
      ]
     },
     "execution_count": 71,
     "metadata": {},
     "output_type": "execute_result"
    }
   ],
   "source": [
    "num.first()"
   ]
  },
  {
   "cell_type": "markdown",
   "id": "2b6f646e",
   "metadata": {},
   "source": [
    "#### GLOM :- \n",
    "1. GLOM creates tupples of RDD.\n",
    "2. Spark doesn't provide the workers to specific refer to partition of RDD.Because in spark the information store in different partitions of in each RDD.\n",
    "3. GLUM is uses for make each partition into tupple."
   ]
  },
  {
   "cell_type": "code",
   "execution_count": 72,
   "id": "0230223b",
   "metadata": {},
   "outputs": [
    {
     "data": {
      "text/plain": [
       "[[5, 5, 4, 3, 2, 9, 2]]"
      ]
     },
     "execution_count": 72,
     "metadata": {},
     "output_type": "execute_result"
    }
   ],
   "source": [
    "num.glom().collect()"
   ]
  },
  {
   "cell_type": "code",
   "execution_count": 73,
   "id": "d3b48a96",
   "metadata": {},
   "outputs": [
    {
     "data": {
      "text/plain": [
       "pyspark.rdd.PipelinedRDD"
      ]
     },
     "execution_count": 73,
     "metadata": {},
     "output_type": "execute_result"
    }
   ],
   "source": [
    "type(num.glom())"
   ]
  },
  {
   "cell_type": "code",
   "execution_count": 77,
   "id": "dfac8c98",
   "metadata": {},
   "outputs": [
    {
     "data": {
      "text/plain": [
       "[5, 5, 4, 3, 2, 9, 2]"
      ]
     },
     "execution_count": 77,
     "metadata": {},
     "output_type": "execute_result"
    }
   ],
   "source": [
    "num = sc.parallelize([5,5,4,3,2,9,2],1)\n",
    "num.collect()"
   ]
  },
  {
   "cell_type": "code",
   "execution_count": 78,
   "id": "8a8bcf83",
   "metadata": {},
   "outputs": [
    {
     "data": {
      "text/plain": [
       "[[5, 5, 4, 3, 2, 9, 2]]"
      ]
     },
     "execution_count": 78,
     "metadata": {},
     "output_type": "execute_result"
    }
   ],
   "source": [
    "num.glom().collect()"
   ]
  },
  {
   "cell_type": "code",
   "execution_count": 79,
   "id": "66ba9b0a",
   "metadata": {},
   "outputs": [
    {
     "data": {
      "text/plain": [
       "[5, 5, 4, 3, 2, 9, 2]"
      ]
     },
     "execution_count": 79,
     "metadata": {},
     "output_type": "execute_result"
    }
   ],
   "source": [
    "num = sc.parallelize([5,5,4,3,2,9,2],2)\n",
    "num.collect()"
   ]
  },
  {
   "cell_type": "code",
   "execution_count": 80,
   "id": "479128cc",
   "metadata": {},
   "outputs": [
    {
     "data": {
      "text/plain": [
       "[[5, 5, 4], [3, 2, 9, 2]]"
      ]
     },
     "execution_count": 80,
     "metadata": {},
     "output_type": "execute_result"
    }
   ],
   "source": [
    "num.glom().collect()"
   ]
  },
  {
   "cell_type": "code",
   "execution_count": 81,
   "id": "20c56e7f",
   "metadata": {},
   "outputs": [
    {
     "data": {
      "text/plain": [
       "[5, 5, 4, 3, 2, 9, 2]"
      ]
     },
     "execution_count": 81,
     "metadata": {},
     "output_type": "execute_result"
    }
   ],
   "source": [
    "num = sc.parallelize([5,5,4,3,2,9,2],6)\n",
    "num.collect()"
   ]
  },
  {
   "cell_type": "code",
   "execution_count": 82,
   "id": "fe2fcf38",
   "metadata": {},
   "outputs": [
    {
     "data": {
      "text/plain": [
       "[[5], [5], [4], [3], [2], [9, 2]]"
      ]
     },
     "execution_count": 82,
     "metadata": {},
     "output_type": "execute_result"
    }
   ],
   "source": [
    "num.glom().collect()"
   ]
  },
  {
   "cell_type": "code",
   "execution_count": 83,
   "id": "43fbfb17",
   "metadata": {},
   "outputs": [
    {
     "data": {
      "text/plain": [
       "[4]"
      ]
     },
     "execution_count": 83,
     "metadata": {},
     "output_type": "execute_result"
    }
   ],
   "source": [
    "num.glom().collect()[2]"
   ]
  },
  {
   "cell_type": "code",
   "execution_count": 84,
   "id": "19523296",
   "metadata": {},
   "outputs": [
    {
     "data": {
      "text/plain": [
       "[5, 5, 4]"
      ]
     },
     "execution_count": 84,
     "metadata": {},
     "output_type": "execute_result"
    }
   ],
   "source": [
    "num.take(3)"
   ]
  },
  {
   "cell_type": "code",
   "execution_count": 85,
   "id": "cf7d2616",
   "metadata": {},
   "outputs": [
    {
     "data": {
      "text/plain": [
       "[5, 5, 4, 3, 2, 9, 2]"
      ]
     },
     "execution_count": 85,
     "metadata": {},
     "output_type": "execute_result"
    }
   ],
   "source": [
    "num = sc.parallelize([5,5,4,3,2,9,2],9)\n",
    "num.collect()"
   ]
  },
  {
   "cell_type": "code",
   "execution_count": 86,
   "id": "c64c7a11",
   "metadata": {},
   "outputs": [
    {
     "data": {
      "text/plain": [
       "[[], [5], [5], [4], [], [3], [2], [9], [2]]"
      ]
     },
     "execution_count": 86,
     "metadata": {},
     "output_type": "execute_result"
    }
   ],
   "source": [
    "num.glom().collect()"
   ]
  },
  {
   "cell_type": "code",
   "execution_count": 87,
   "id": "fe6d2513",
   "metadata": {},
   "outputs": [
    {
     "data": {
      "text/plain": [
       "2"
      ]
     },
     "execution_count": 87,
     "metadata": {},
     "output_type": "execute_result"
    }
   ],
   "source": [
    "num.min()"
   ]
  },
  {
   "cell_type": "code",
   "execution_count": 88,
   "id": "067758f9",
   "metadata": {},
   "outputs": [
    {
     "data": {
      "text/plain": [
       "9"
      ]
     },
     "execution_count": 88,
     "metadata": {},
     "output_type": "execute_result"
    }
   ],
   "source": [
    "num.max()"
   ]
  },
  {
   "cell_type": "code",
   "execution_count": 89,
   "id": "112eccba",
   "metadata": {},
   "outputs": [
    {
     "data": {
      "text/plain": [
       "4.285714285714286"
      ]
     },
     "execution_count": 89,
     "metadata": {},
     "output_type": "execute_result"
    }
   ],
   "source": [
    "num.mean()"
   ]
  },
  {
   "cell_type": "markdown",
   "id": "cc864b1d",
   "metadata": {},
   "source": [
    "#### Action-Reduce"
   ]
  },
  {
   "cell_type": "code",
   "execution_count": 90,
   "id": "278e9ac8",
   "metadata": {},
   "outputs": [
    {
     "data": {
      "text/plain": [
       "[5, 5, 4, 3, 2, 9, 2]"
      ]
     },
     "execution_count": 90,
     "metadata": {},
     "output_type": "execute_result"
    }
   ],
   "source": [
    "num.collect()"
   ]
  },
  {
   "cell_type": "code",
   "execution_count": 91,
   "id": "373744b4",
   "metadata": {},
   "outputs": [
    {
     "data": {
      "text/plain": [
       "30"
      ]
     },
     "execution_count": 91,
     "metadata": {},
     "output_type": "execute_result"
    }
   ],
   "source": [
    "num.reduce(lambda a,b:a+b)"
   ]
  },
  {
   "cell_type": "code",
   "execution_count": 92,
   "id": "5f449ccb",
   "metadata": {},
   "outputs": [
    {
     "data": {
      "text/plain": [
       "10800"
      ]
     },
     "execution_count": 92,
     "metadata": {},
     "output_type": "execute_result"
    }
   ],
   "source": [
    "num.reduce(lambda a,b:a*b)"
   ]
  },
  {
   "cell_type": "code",
   "execution_count": 93,
   "id": "fe67b1e2",
   "metadata": {},
   "outputs": [
    {
     "data": {
      "text/plain": [
       "9"
      ]
     },
     "execution_count": 93,
     "metadata": {},
     "output_type": "execute_result"
    }
   ],
   "source": [
    "num.reduce(lambda x,y: x if x>y else y )"
   ]
  },
  {
   "cell_type": "code",
   "execution_count": 94,
   "id": "deb5e562",
   "metadata": {},
   "outputs": [],
   "source": [
    "def myFun(a,b):\n",
    "    return a*2+b*2"
   ]
  },
  {
   "cell_type": "code",
   "execution_count": 95,
   "id": "c8287f8e",
   "metadata": {},
   "outputs": [
    {
     "data": {
      "text/plain": [
       "872"
      ]
     },
     "execution_count": 95,
     "metadata": {},
     "output_type": "execute_result"
    }
   ],
   "source": [
    "num.reduce(myFun)"
   ]
  },
  {
   "cell_type": "markdown",
   "id": "496f00c8",
   "metadata": {},
   "source": [
    "#### Action-takeOrdered()\n",
    "1.  sort the RDD from small to big and give the 3 smallest number from RDD"
   ]
  },
  {
   "cell_type": "code",
   "execution_count": 96,
   "id": "11e3ceca",
   "metadata": {},
   "outputs": [
    {
     "data": {
      "text/plain": [
       "[2, 2, 3]"
      ]
     },
     "execution_count": 96,
     "metadata": {},
     "output_type": "execute_result"
    }
   ],
   "source": [
    "num.takeOrdered(3) # sort the RDD from small to big and give the 3 smallest number from RDD"
   ]
  },
  {
   "cell_type": "markdown",
   "id": "1b188c6d",
   "metadata": {},
   "source": [
    "#### Action-Fold()"
   ]
  },
  {
   "cell_type": "code",
   "execution_count": 97,
   "id": "fd7e5bcc",
   "metadata": {},
   "outputs": [
    {
     "data": {
      "text/plain": [
       "30"
      ]
     },
     "execution_count": 97,
     "metadata": {},
     "output_type": "execute_result"
    }
   ],
   "source": [
    "num.fold(0,lambda a,b:a+b)"
   ]
  },
  {
   "cell_type": "code",
   "execution_count": 100,
   "id": "7e4e0bcd",
   "metadata": {},
   "outputs": [
    {
     "data": {
      "text/plain": [
       "40"
      ]
     },
     "execution_count": 100,
     "metadata": {},
     "output_type": "execute_result"
    }
   ],
   "source": [
    "num.fold(1,lambda a,b:a+b)"
   ]
  },
  {
   "cell_type": "code",
   "execution_count": 101,
   "id": "673f7954",
   "metadata": {},
   "outputs": [
    {
     "data": {
      "text/plain": [
       "50"
      ]
     },
     "execution_count": 101,
     "metadata": {},
     "output_type": "execute_result"
    }
   ],
   "source": [
    "num.fold(2,lambda a,b:a+b)"
   ]
  },
  {
   "cell_type": "code",
   "execution_count": 102,
   "id": "1dafac8b",
   "metadata": {},
   "outputs": [
    {
     "data": {
      "text/plain": [
       "0"
      ]
     },
     "execution_count": 102,
     "metadata": {},
     "output_type": "execute_result"
    }
   ],
   "source": [
    "num.fold(0,lambda a,b:a*b)"
   ]
  },
  {
   "cell_type": "code",
   "execution_count": 103,
   "id": "3dd518ab",
   "metadata": {},
   "outputs": [
    {
     "data": {
      "text/plain": [
       "10800"
      ]
     },
     "execution_count": 103,
     "metadata": {},
     "output_type": "execute_result"
    }
   ],
   "source": [
    "num.fold(1,lambda a,b: a*b)"
   ]
  },
  {
   "cell_type": "code",
   "execution_count": 104,
   "id": "d610b1d9",
   "metadata": {},
   "outputs": [
    {
     "data": {
      "text/plain": [
       "11059200"
      ]
     },
     "execution_count": 104,
     "metadata": {},
     "output_type": "execute_result"
    }
   ],
   "source": [
    "num.fold(2,lambda a,b: a*b)"
   ]
  },
  {
   "cell_type": "code",
   "execution_count": 106,
   "id": "76262858",
   "metadata": {},
   "outputs": [
    {
     "data": {
      "text/plain": [
       "[[], [5], [5], [4], [], [3], [2], [9], [2]]"
      ]
     },
     "execution_count": 106,
     "metadata": {},
     "output_type": "execute_result"
    }
   ],
   "source": [
    "num.glom().collect() \n",
    "# Here the RDD splits into 9 so 9+1=10 it will add at tiem of num.fold(1,lambda a,b:a+b) same for mutiplication."
   ]
  },
  {
   "cell_type": "code",
   "execution_count": 107,
   "id": "211dc991",
   "metadata": {},
   "outputs": [
    {
     "data": {
      "text/plain": [
       "1080000"
      ]
     },
     "execution_count": 107,
     "metadata": {},
     "output_type": "execute_result"
    }
   ],
   "source": [
    "from operator import add,mul\n",
    "num3 = sc.parallelize([5, 5, 4, 3, 2, 9, 2]).fold(10,mul)\n",
    "num3"
   ]
  },
  {
   "cell_type": "code",
   "execution_count": 108,
   "id": "77b2c1b4",
   "metadata": {},
   "outputs": [
    {
     "data": {
      "text/plain": [
       "[1, 2, 3, 4, 5, 6, 7, 8, 9]"
      ]
     },
     "execution_count": 108,
     "metadata": {},
     "output_type": "execute_result"
    }
   ],
   "source": [
    "b= sc.parallelize(range(1,10))\n",
    "b.collect()"
   ]
  },
  {
   "cell_type": "code",
   "execution_count": null,
   "id": "e09c5eda",
   "metadata": {},
   "outputs": [],
   "source": []
  },
  {
   "cell_type": "markdown",
   "id": "60bad96e",
   "metadata": {},
   "source": [
    "## Create RDD and Transformation details"
   ]
  },
  {
   "cell_type": "code",
   "execution_count": 109,
   "id": "de201718",
   "metadata": {},
   "outputs": [],
   "source": [
    "conf = SparkConf().setAppName('demo').setMaster(\"local\")"
   ]
  },
  {
   "cell_type": "code",
   "execution_count": 111,
   "id": "c6e9710a",
   "metadata": {},
   "outputs": [],
   "source": [
    "sc = SparkContext(conf=conf)"
   ]
  },
  {
   "cell_type": "markdown",
   "id": "df8f601b",
   "metadata": {},
   "source": [
    "### 1. Narrow Transformation(Pipelining)"
   ]
  },
  {
   "cell_type": "markdown",
   "id": "c6dc0a4d",
   "metadata": {},
   "source": [
    "#### Map()\n",
    "1. Its just change the property of input RDD so the modifed RDD will show case as output RDD result."
   ]
  },
  {
   "cell_type": "code",
   "execution_count": 113,
   "id": "b81262d2",
   "metadata": {},
   "outputs": [
    {
     "data": {
      "text/plain": [
       "[5, 5, 4, 3, 2, 9, 2]"
      ]
     },
     "execution_count": 113,
     "metadata": {},
     "output_type": "execute_result"
    }
   ],
   "source": [
    "num = sc.parallelize([5, 5, 4, 3, 2, 9, 2])\n",
    "num.collect()"
   ]
  },
  {
   "cell_type": "code",
   "execution_count": 114,
   "id": "9af5c140",
   "metadata": {},
   "outputs": [
    {
     "data": {
      "text/plain": [
       "[10, 10, 8, 6, 4, 18, 4]"
      ]
     },
     "execution_count": 114,
     "metadata": {},
     "output_type": "execute_result"
    }
   ],
   "source": [
    "num.map(lambda a : a*2).collect()"
   ]
  },
  {
   "cell_type": "code",
   "execution_count": 115,
   "id": "aac96c06",
   "metadata": {},
   "outputs": [
    {
     "data": {
      "text/plain": [
       "[25, 25, 16, 9, 4, 81, 4]"
      ]
     },
     "execution_count": 115,
     "metadata": {},
     "output_type": "execute_result"
    }
   ],
   "source": [
    "num.map(lambda a : a**2).collect()"
   ]
  },
  {
   "cell_type": "code",
   "execution_count": 147,
   "id": "f84d813e",
   "metadata": {},
   "outputs": [
    {
     "data": {
      "text/plain": [
       "['ram', 'shaym', 'jhon', 'stan']"
      ]
     },
     "execution_count": 147,
     "metadata": {},
     "output_type": "execute_result"
    }
   ],
   "source": [
    "names = sc.parallelize(['ram','shaym','jhon','stan'])\n",
    "names.collect()"
   ]
  },
  {
   "cell_type": "code",
   "execution_count": 148,
   "id": "b8fdfa86",
   "metadata": {},
   "outputs": [
    {
     "data": {
      "text/plain": [
       "['Mr.ram', 'Mr.shaym', 'Mr.jhon', 'Mr.stan']"
      ]
     },
     "execution_count": 148,
     "metadata": {},
     "output_type": "execute_result"
    }
   ],
   "source": [
    "names.map(lambda a:\"Mr.\"+a).collect()"
   ]
  },
  {
   "cell_type": "markdown",
   "id": "9be68796",
   "metadata": {},
   "source": [
    "#### FlatMap()\n",
    "\n",
    "1. It divied the each RDD infomation as an output RDD result."
   ]
  },
  {
   "cell_type": "code",
   "execution_count": 119,
   "id": "fe51b796",
   "metadata": {},
   "outputs": [
    {
     "data": {
      "text/plain": [
       "[2, 3, 4]"
      ]
     },
     "execution_count": 119,
     "metadata": {},
     "output_type": "execute_result"
    }
   ],
   "source": [
    "rdd = sc.parallelize([2,3,4])\n",
    "rdd.collect()"
   ]
  },
  {
   "cell_type": "code",
   "execution_count": 120,
   "id": "044dc014",
   "metadata": {},
   "outputs": [
    {
     "name": "stdout",
     "output_type": "stream",
     "text": [
      "1\n",
      "2\n"
     ]
    }
   ],
   "source": [
    "a = range(1,3)\n",
    "\n",
    "for i in a:\n",
    "    print(i)"
   ]
  },
  {
   "cell_type": "code",
   "execution_count": 121,
   "id": "61b8d83b",
   "metadata": {},
   "outputs": [
    {
     "data": {
      "text/plain": [
       "[1, 1, 2, 1, 2, 3]"
      ]
     },
     "execution_count": 121,
     "metadata": {},
     "output_type": "execute_result"
    }
   ],
   "source": [
    "rdd.flatMap(lambda x:range(1,x)).collect()"
   ]
  },
  {
   "cell_type": "code",
   "execution_count": 122,
   "id": "6d837392",
   "metadata": {},
   "outputs": [],
   "source": [
    "a = sc.parallelize([1,2,3])"
   ]
  },
  {
   "cell_type": "code",
   "execution_count": 123,
   "id": "c76a9946",
   "metadata": {},
   "outputs": [
    {
     "data": {
      "text/plain": [
       "[1, 10, 57, 2, 20, 57, 3, 30, 57]"
      ]
     },
     "execution_count": 123,
     "metadata": {},
     "output_type": "execute_result"
    }
   ],
   "source": [
    "a.flatMap(lambda x:(x,x*10,57)).collect()"
   ]
  },
  {
   "cell_type": "markdown",
   "id": "e70fa7e3",
   "metadata": {},
   "source": [
    "#### Filter()\n",
    "1. just apply the filter in input RDD then output will be less filtered information as compare to input."
   ]
  },
  {
   "cell_type": "code",
   "execution_count": 124,
   "id": "975e4b58",
   "metadata": {},
   "outputs": [
    {
     "data": {
      "text/plain": [
       "[5, 5, 4, 3, 2, 9, 2]"
      ]
     },
     "execution_count": 124,
     "metadata": {},
     "output_type": "execute_result"
    }
   ],
   "source": [
    "num.collect()"
   ]
  },
  {
   "cell_type": "code",
   "execution_count": 125,
   "id": "e83e7147",
   "metadata": {},
   "outputs": [
    {
     "data": {
      "text/plain": [
       "[4, 2, 2]"
      ]
     },
     "execution_count": 125,
     "metadata": {},
     "output_type": "execute_result"
    }
   ],
   "source": [
    "num.filter(lambda x: x%2==0 ).collect()"
   ]
  },
  {
   "cell_type": "code",
   "execution_count": 126,
   "id": "371cb408",
   "metadata": {},
   "outputs": [
    {
     "data": {
      "text/plain": [
       "['ram', 'shaym', 'jhon', 'Stan']"
      ]
     },
     "execution_count": 126,
     "metadata": {},
     "output_type": "execute_result"
    }
   ],
   "source": [
    "names.collect()"
   ]
  },
  {
   "cell_type": "code",
   "execution_count": 128,
   "id": "d965d667",
   "metadata": {},
   "outputs": [
    {
     "data": {
      "text/plain": [
       "['shaym', 'jhon']"
      ]
     },
     "execution_count": 128,
     "metadata": {},
     "output_type": "execute_result"
    }
   ],
   "source": [
    "names.filter(lambda x : 'h' in x).collect()"
   ]
  },
  {
   "cell_type": "markdown",
   "id": "35182897",
   "metadata": {},
   "source": [
    "#### Union()\n",
    "1. it will combine both RDD information and produce output as new RDD."
   ]
  },
  {
   "cell_type": "code",
   "execution_count": 129,
   "id": "f6798a5e",
   "metadata": {},
   "outputs": [
    {
     "data": {
      "text/plain": [
       "[5, 5, 4, 3, 2, 9, 2]"
      ]
     },
     "execution_count": 129,
     "metadata": {},
     "output_type": "execute_result"
    }
   ],
   "source": [
    "num.collect()"
   ]
  },
  {
   "cell_type": "code",
   "execution_count": 130,
   "id": "e0e5973a",
   "metadata": {},
   "outputs": [
    {
     "data": {
      "text/plain": [
       "[1, 7, 9, 4, 10, 15]"
      ]
     },
     "execution_count": 130,
     "metadata": {},
     "output_type": "execute_result"
    }
   ],
   "source": [
    "num2= sc.parallelize([1,7,9,4,10,15])\n",
    "num2.collect()"
   ]
  },
  {
   "cell_type": "code",
   "execution_count": 131,
   "id": "fb8986a2",
   "metadata": {},
   "outputs": [
    {
     "data": {
      "text/plain": [
       "[5, 5, 4, 3, 2, 9, 2, 1, 7, 9, 4, 10, 15]"
      ]
     },
     "execution_count": 131,
     "metadata": {},
     "output_type": "execute_result"
    }
   ],
   "source": [
    "num.union(num2).collect()"
   ]
  },
  {
   "cell_type": "code",
   "execution_count": 132,
   "id": "71e646b5",
   "metadata": {},
   "outputs": [],
   "source": [
    "x = sc.parallelize([1,2,3],2)\n",
    "y = sc.parallelize([3,4],1)"
   ]
  },
  {
   "cell_type": "code",
   "execution_count": 133,
   "id": "c30bf04e",
   "metadata": {},
   "outputs": [
    {
     "data": {
      "text/plain": [
       "[1, 2, 3, 3, 4]"
      ]
     },
     "execution_count": 133,
     "metadata": {},
     "output_type": "execute_result"
    }
   ],
   "source": [
    "z = x.union(y)\n",
    "z.collect()"
   ]
  },
  {
   "cell_type": "markdown",
   "id": "0d0d40fa",
   "metadata": {},
   "source": [
    "#### Sample()\n",
    "1. Return the random sample subset RDD of the input RDD.\n",
    "2. API:-\n",
    "    1. withRepalcement: Boolean\n",
    "    2. fraction : Double\n",
    "    3. seed : Long = utils.random.nextLong (RDD[T])\n",
    "\n",
    "3. Note :- This is not Guraneteed to provide exactly the fraction specified of the total count of the given  "
   ]
  },
  {
   "cell_type": "code",
   "execution_count": 137,
   "id": "0b22ac1c",
   "metadata": {},
   "outputs": [
    {
     "data": {
      "text/plain": [
       "[1, 2, 3, 4, 5, 6, 7, 8, 9]"
      ]
     },
     "execution_count": 137,
     "metadata": {},
     "output_type": "execute_result"
    }
   ],
   "source": [
    "paralle = sc.parallelize(range(1,10))\n",
    "paralle.collect()"
   ]
  },
  {
   "cell_type": "code",
   "execution_count": 138,
   "id": "24497075",
   "metadata": {},
   "outputs": [
    {
     "data": {
      "text/plain": [
       "[7]"
      ]
     },
     "execution_count": 138,
     "metadata": {},
     "output_type": "execute_result"
    }
   ],
   "source": [
    "paralle.sample(True,.2).collect()"
   ]
  },
  {
   "cell_type": "code",
   "execution_count": 140,
   "id": "e6c3962d",
   "metadata": {},
   "outputs": [
    {
     "data": {
      "text/plain": [
       "[2, 4, 6, 9]"
      ]
     },
     "execution_count": 140,
     "metadata": {},
     "output_type": "execute_result"
    }
   ],
   "source": [
    "paralle.sample(True,.2,seed=19).collect()"
   ]
  },
  {
   "cell_type": "code",
   "execution_count": 142,
   "id": "b6980c8f",
   "metadata": {},
   "outputs": [
    {
     "data": {
      "text/plain": [
       "[9]"
      ]
     },
     "execution_count": 142,
     "metadata": {},
     "output_type": "execute_result"
    }
   ],
   "source": [
    "paralle.sample(False,.2).collect()"
   ]
  },
  {
   "cell_type": "markdown",
   "id": "6880dc2b",
   "metadata": {},
   "source": [
    "### 2. Wide Transformation(Shuffling)"
   ]
  },
  {
   "cell_type": "markdown",
   "id": "274d4649",
   "metadata": {},
   "source": [
    "#### Simple RDD (Without Key Value Pairs)"
   ]
  },
  {
   "cell_type": "markdown",
   "id": "9e0af027",
   "metadata": {},
   "source": [
    "#### GroupBy()\n",
    "1. Define the groups in input RDD as groupby outpur RDD as result."
   ]
  },
  {
   "cell_type": "code",
   "execution_count": 149,
   "id": "19dfbba3",
   "metadata": {},
   "outputs": [
    {
     "data": {
      "text/plain": [
       "['ram', 'shaym', 'jhon', 'stan']"
      ]
     },
     "execution_count": 149,
     "metadata": {},
     "output_type": "execute_result"
    }
   ],
   "source": [
    "names.collect()"
   ]
  },
  {
   "cell_type": "code",
   "execution_count": 151,
   "id": "64595df7",
   "metadata": {},
   "outputs": [
    {
     "data": {
      "text/plain": [
       "[('r', <pyspark.resultiterable.ResultIterable at 0x1e1002deaf0>),\n",
       " ('s', <pyspark.resultiterable.ResultIterable at 0x1e100296550>),\n",
       " ('j', <pyspark.resultiterable.ResultIterable at 0x1e1002967c0>)]"
      ]
     },
     "execution_count": 151,
     "metadata": {},
     "output_type": "execute_result"
    }
   ],
   "source": [
    "names_grp = names.groupBy(lambda x : x[0]).collect()\n",
    "names_grp"
   ]
  },
  {
   "cell_type": "code",
   "execution_count": 152,
   "id": "bbcce27a",
   "metadata": {},
   "outputs": [
    {
     "name": "stdout",
     "output_type": "stream",
     "text": [
      "r ['ram']\n",
      "s ['shaym', 'stan']\n",
      "j ['jhon']\n"
     ]
    }
   ],
   "source": [
    "for (k,v) in names_grp:\n",
    "    print(k,list(v))\n",
    "    \n",
    "    "
   ]
  },
  {
   "cell_type": "code",
   "execution_count": 153,
   "id": "96a62bcb",
   "metadata": {},
   "outputs": [
    {
     "data": {
      "text/plain": [
       "[(1, <pyspark.resultiterable.ResultIterable at 0x1e10179dee0>),\n",
       " (0, <pyspark.resultiterable.ResultIterable at 0x1e1012ce400>)]"
      ]
     },
     "execution_count": 153,
     "metadata": {},
     "output_type": "execute_result"
    }
   ],
   "source": [
    "num_grp = num.groupBy(lambda x : x%2).collect()\n",
    "num_grp"
   ]
  },
  {
   "cell_type": "code",
   "execution_count": 154,
   "id": "c6b84da6",
   "metadata": {},
   "outputs": [
    {
     "name": "stdout",
     "output_type": "stream",
     "text": [
      "1 [5, 5, 3, 9]\n",
      "0 [4, 2, 2]\n"
     ]
    }
   ],
   "source": [
    "for (k,v) in num_grp:\n",
    "    print(k,list(v))"
   ]
  },
  {
   "cell_type": "markdown",
   "id": "5563ebeb",
   "metadata": {},
   "source": [
    "#### Intersection()\n",
    "1. Represent the common elements of each RDD's and show the result."
   ]
  },
  {
   "cell_type": "code",
   "execution_count": 155,
   "id": "76a92f3b",
   "metadata": {},
   "outputs": [
    {
     "data": {
      "text/plain": [
       "[5, 5, 4, 3, 2, 9, 2]"
      ]
     },
     "execution_count": 155,
     "metadata": {},
     "output_type": "execute_result"
    }
   ],
   "source": [
    "num.collect()"
   ]
  },
  {
   "cell_type": "code",
   "execution_count": 156,
   "id": "f07fc90f",
   "metadata": {},
   "outputs": [
    {
     "data": {
      "text/plain": [
       "[1, 7, 9, 4, 10, 15]"
      ]
     },
     "execution_count": 156,
     "metadata": {},
     "output_type": "execute_result"
    }
   ],
   "source": [
    "num2.collect()"
   ]
  },
  {
   "cell_type": "code",
   "execution_count": 157,
   "id": "5bfb0e06",
   "metadata": {},
   "outputs": [
    {
     "data": {
      "text/plain": [
       "[4, 9]"
      ]
     },
     "execution_count": 157,
     "metadata": {},
     "output_type": "execute_result"
    }
   ],
   "source": [
    "num.intersection(num2).collect()"
   ]
  },
  {
   "cell_type": "code",
   "execution_count": 158,
   "id": "8f321700",
   "metadata": {},
   "outputs": [
    {
     "data": {
      "text/plain": [
       "[4, 9]"
      ]
     },
     "execution_count": 158,
     "metadata": {},
     "output_type": "execute_result"
    }
   ],
   "source": [
    "num2.intersection(num).collect()"
   ]
  },
  {
   "cell_type": "markdown",
   "id": "0458f019",
   "metadata": {},
   "source": [
    "#### Subtract()\n",
    "1. It will remove the common elements of 1st RDD and show the result."
   ]
  },
  {
   "cell_type": "code",
   "execution_count": 159,
   "id": "a57f5405",
   "metadata": {},
   "outputs": [
    {
     "data": {
      "text/plain": [
       "[5, 5, 4, 3, 2, 9, 2]"
      ]
     },
     "execution_count": 159,
     "metadata": {},
     "output_type": "execute_result"
    }
   ],
   "source": [
    "num.collect()"
   ]
  },
  {
   "cell_type": "code",
   "execution_count": 160,
   "id": "3ae977f1",
   "metadata": {},
   "outputs": [
    {
     "data": {
      "text/plain": [
       "[1, 7, 9, 4, 10, 15]"
      ]
     },
     "execution_count": 160,
     "metadata": {},
     "output_type": "execute_result"
    }
   ],
   "source": [
    "num2.collect()"
   ]
  },
  {
   "cell_type": "code",
   "execution_count": 161,
   "id": "1cc2217e",
   "metadata": {},
   "outputs": [
    {
     "data": {
      "text/plain": [
       "[2, 2, 5, 5, 3]"
      ]
     },
     "execution_count": 161,
     "metadata": {},
     "output_type": "execute_result"
    }
   ],
   "source": [
    "num.subtract(num2).collect()"
   ]
  },
  {
   "cell_type": "code",
   "execution_count": 162,
   "id": "aeb942ae",
   "metadata": {},
   "outputs": [
    {
     "data": {
      "text/plain": [
       "[10, 1, 7, 15]"
      ]
     },
     "execution_count": 162,
     "metadata": {},
     "output_type": "execute_result"
    }
   ],
   "source": [
    "num2.subtract(num).collect()"
   ]
  },
  {
   "cell_type": "markdown",
   "id": "e5c13b5b",
   "metadata": {},
   "source": [
    "#### Distinct()\n",
    "1. find the unique element from RDD."
   ]
  },
  {
   "cell_type": "code",
   "execution_count": 163,
   "id": "8a03b83f",
   "metadata": {},
   "outputs": [
    {
     "data": {
      "text/plain": [
       "[5, 5, 4, 3, 2, 9, 2]"
      ]
     },
     "execution_count": 163,
     "metadata": {},
     "output_type": "execute_result"
    }
   ],
   "source": [
    "num.collect()"
   ]
  },
  {
   "cell_type": "code",
   "execution_count": 164,
   "id": "90dba030",
   "metadata": {},
   "outputs": [
    {
     "data": {
      "text/plain": [
       "[5, 4, 3, 2, 9]"
      ]
     },
     "execution_count": 164,
     "metadata": {},
     "output_type": "execute_result"
    }
   ],
   "source": [
    "num.distinct().collect()"
   ]
  },
  {
   "cell_type": "markdown",
   "id": "b91c9797",
   "metadata": {},
   "source": [
    "#### Key Value Pairs RDD (With Key Value Pairs)"
   ]
  },
  {
   "cell_type": "code",
   "execution_count": 165,
   "id": "de38eadc",
   "metadata": {},
   "outputs": [
    {
     "data": {
      "text/plain": [
       "[1, 2, 3, 4, 5]"
      ]
     },
     "execution_count": 165,
     "metadata": {},
     "output_type": "execute_result"
    }
   ],
   "source": [
    "data = sc.parallelize([1,2,3,4,5])\n",
    "data.collect()"
   ]
  },
  {
   "cell_type": "code",
   "execution_count": 202,
   "id": "14625d7b",
   "metadata": {},
   "outputs": [
    {
     "data": {
      "text/plain": [
       "[(1, 2), (3, 4), (3, 6), (3, 4)]"
      ]
     },
     "execution_count": 202,
     "metadata": {},
     "output_type": "execute_result"
    }
   ],
   "source": [
    "data = sc.parallelize([(1,2),(3,4),(3,6),(3,4)])\n",
    "data.collect()"
   ]
  },
  {
   "cell_type": "code",
   "execution_count": 167,
   "id": "19c54ee1",
   "metadata": {},
   "outputs": [
    {
     "data": {
      "text/plain": [
       "pyspark.rdd.RDD"
      ]
     },
     "execution_count": 167,
     "metadata": {},
     "output_type": "execute_result"
    }
   ],
   "source": [
    "type(data)"
   ]
  },
  {
   "cell_type": "code",
   "execution_count": 168,
   "id": "50582215",
   "metadata": {},
   "outputs": [
    {
     "data": {
      "text/plain": [
       "defaultdict(int, {(1, 2): 1, (3, 4): 2, (3, 6): 1})"
      ]
     },
     "execution_count": 168,
     "metadata": {},
     "output_type": "execute_result"
    }
   ],
   "source": [
    "data.countByValue()"
   ]
  },
  {
   "cell_type": "code",
   "execution_count": 169,
   "id": "84030877",
   "metadata": {},
   "outputs": [
    {
     "data": {
      "text/plain": [
       "[(1, 'mike'), (2, 'john'), (3, 'rambo'), (4, 'bill')]"
      ]
     },
     "execution_count": 169,
     "metadata": {},
     "output_type": "execute_result"
    }
   ],
   "source": [
    "dataStr = sc.parallelize([(1,'mike'),(2,'john'),(3,'rambo'),(4,'bill')])\n",
    "dataStr.collect()"
   ]
  },
  {
   "cell_type": "code",
   "execution_count": 170,
   "id": "02e0de21",
   "metadata": {},
   "outputs": [
    {
     "data": {
      "text/plain": [
       "4"
      ]
     },
     "execution_count": 170,
     "metadata": {},
     "output_type": "execute_result"
    }
   ],
   "source": [
    "dataStr.count()"
   ]
  },
  {
   "cell_type": "code",
   "execution_count": 179,
   "id": "87dbeacd",
   "metadata": {},
   "outputs": [
    {
     "data": {
      "text/plain": [
       "defaultdict(int,\n",
       "            {(1, 'mike'): 1, (2, 'john'): 1, (3, 'rambo'): 1, (4, 'bill'): 1})"
      ]
     },
     "execution_count": 179,
     "metadata": {},
     "output_type": "execute_result"
    }
   ],
   "source": [
    "dataStr.countByValue()"
   ]
  },
  {
   "cell_type": "markdown",
   "id": "19fd0764",
   "metadata": {},
   "source": [
    "#### top()\n",
    "1. Top number by value\n"
   ]
  },
  {
   "cell_type": "code",
   "execution_count": 177,
   "id": "af801073",
   "metadata": {},
   "outputs": [
    {
     "data": {
      "text/plain": [
       "[(3, 6), (3, 4)]"
      ]
     },
     "execution_count": 177,
     "metadata": {},
     "output_type": "execute_result"
    }
   ],
   "source": [
    "data.top(2)"
   ]
  },
  {
   "cell_type": "markdown",
   "id": "4655a6ea",
   "metadata": {},
   "source": [
    "#### sortByKey()\n",
    "1. Sort by key "
   ]
  },
  {
   "cell_type": "code",
   "execution_count": 178,
   "id": "417c75cb",
   "metadata": {},
   "outputs": [
    {
     "data": {
      "text/plain": [
       "[(1, 2), (3, 4), (3, 6), (3, 4)]"
      ]
     },
     "execution_count": 178,
     "metadata": {},
     "output_type": "execute_result"
    }
   ],
   "source": [
    "data.sortByKey().collect()"
   ]
  },
  {
   "cell_type": "markdown",
   "id": "ceda12fc",
   "metadata": {},
   "source": [
    "#### lookup()\n",
    "1. Return all the values associated with the given key. "
   ]
  },
  {
   "cell_type": "code",
   "execution_count": 180,
   "id": "2997c97a",
   "metadata": {},
   "outputs": [
    {
     "data": {
      "text/plain": [
       "[4, 6, 4]"
      ]
     },
     "execution_count": 180,
     "metadata": {},
     "output_type": "execute_result"
    }
   ],
   "source": [
    "data.lookup(3)"
   ]
  },
  {
   "cell_type": "code",
   "execution_count": 181,
   "id": "7698dac6",
   "metadata": {},
   "outputs": [
    {
     "data": {
      "text/plain": [
       "[1, 3, 3, 3]"
      ]
     },
     "execution_count": 181,
     "metadata": {},
     "output_type": "execute_result"
    }
   ],
   "source": [
    "data.keys().collect()"
   ]
  },
  {
   "cell_type": "code",
   "execution_count": 182,
   "id": "78b3023b",
   "metadata": {},
   "outputs": [
    {
     "data": {
      "text/plain": [
       "[2, 4, 6, 4]"
      ]
     },
     "execution_count": 182,
     "metadata": {},
     "output_type": "execute_result"
    }
   ],
   "source": [
    "data.values().collect()"
   ]
  },
  {
   "cell_type": "markdown",
   "id": "7a719336",
   "metadata": {},
   "source": [
    "#### mapValues()\n",
    "1. map (execution) the value w.r.t RDD."
   ]
  },
  {
   "cell_type": "code",
   "execution_count": 183,
   "id": "128d286b",
   "metadata": {},
   "outputs": [
    {
     "data": {
      "text/plain": [
       "[(1, 4), (3, 16), (3, 36), (3, 16)]"
      ]
     },
     "execution_count": 183,
     "metadata": {},
     "output_type": "execute_result"
    }
   ],
   "source": [
    "data.mapValues(lambda a:a*a).collect()"
   ]
  },
  {
   "cell_type": "markdown",
   "id": "062f8151",
   "metadata": {},
   "source": [
    "#### Note:-\n",
    "1. data.map() :- No use in Key Value, as we use the **data.mapValues()**\n",
    "2. data.reduce() :- No use in Key Value, as we use the **data.reduceByKey()**"
   ]
  },
  {
   "cell_type": "markdown",
   "id": "ff5eed46",
   "metadata": {},
   "source": [
    "#### ReduceByKey()\n",
    "1. Low computation cost as it reduce the value by key( Aggrigation happens on the values of each RDD w.r.t key)\n",
    "2. Best way of reduce the computaional and less process."
   ]
  },
  {
   "cell_type": "code",
   "execution_count": 184,
   "id": "c44c2952",
   "metadata": {},
   "outputs": [
    {
     "data": {
      "text/plain": [
       "[(1, 2), (3, 4), (3, 6), (3, 4)]"
      ]
     },
     "execution_count": 184,
     "metadata": {},
     "output_type": "execute_result"
    }
   ],
   "source": [
    "data.collect()"
   ]
  },
  {
   "cell_type": "code",
   "execution_count": 185,
   "id": "05813e92",
   "metadata": {},
   "outputs": [
    {
     "data": {
      "text/plain": [
       "[(1, 2), (3, 14)]"
      ]
     },
     "execution_count": 185,
     "metadata": {},
     "output_type": "execute_result"
    }
   ],
   "source": [
    "data.reduceByKey(lambda x,y : x+y).collect()"
   ]
  },
  {
   "cell_type": "code",
   "execution_count": 186,
   "id": "f6628876",
   "metadata": {},
   "outputs": [
    {
     "data": {
      "text/plain": [
       "[(1, 2), (3, 6)]"
      ]
     },
     "execution_count": 186,
     "metadata": {},
     "output_type": "execute_result"
    }
   ],
   "source": [
    "data.reduceByKey(max).collect()"
   ]
  },
  {
   "cell_type": "markdown",
   "id": "a4095dc6",
   "metadata": {},
   "source": [
    "#### GroupByKey()\n",
    "1. High computation cost and lot of unwanted process.(Aggrigation not happens on the values of each RDD w.r.t key)\n",
    "2. Best way is ReduceByKey()."
   ]
  },
  {
   "cell_type": "code",
   "execution_count": 187,
   "id": "78212f7e",
   "metadata": {},
   "outputs": [
    {
     "data": {
      "text/plain": [
       "[(1, 2), (3, 4), (3, 6), (3, 4)]"
      ]
     },
     "execution_count": 187,
     "metadata": {},
     "output_type": "execute_result"
    }
   ],
   "source": [
    "data.collect()"
   ]
  },
  {
   "cell_type": "code",
   "execution_count": 192,
   "id": "d103664a",
   "metadata": {},
   "outputs": [],
   "source": [
    "# data.groupBy().collect() # groupBy() no use in Key Value"
   ]
  },
  {
   "cell_type": "code",
   "execution_count": 193,
   "id": "d394f453",
   "metadata": {},
   "outputs": [
    {
     "data": {
      "text/plain": [
       "[(1, <pyspark.resultiterable.ResultIterable at 0x1e101f22370>),\n",
       " (3, <pyspark.resultiterable.ResultIterable at 0x1e101f22190>)]"
      ]
     },
     "execution_count": 193,
     "metadata": {},
     "output_type": "execute_result"
    }
   ],
   "source": [
    "res = data.groupByKey().collect()\n",
    "res"
   ]
  },
  {
   "cell_type": "code",
   "execution_count": 194,
   "id": "99941017",
   "metadata": {},
   "outputs": [
    {
     "name": "stdout",
     "output_type": "stream",
     "text": [
      "1 [2]\n",
      "3 [4, 6, 4]\n"
     ]
    }
   ],
   "source": [
    "for k,v in res:\n",
    "    print(k,list(v))"
   ]
  },
  {
   "cell_type": "code",
   "execution_count": 196,
   "id": "9c2e177a",
   "metadata": {},
   "outputs": [
    {
     "data": {
      "text/plain": [
       "[(1, 2), (3, 6)]"
      ]
     },
     "execution_count": 196,
     "metadata": {},
     "output_type": "execute_result"
    }
   ],
   "source": [
    "data.groupByKey().mapValues(max).collect()"
   ]
  },
  {
   "cell_type": "code",
   "execution_count": 197,
   "id": "2e5636a3",
   "metadata": {},
   "outputs": [
    {
     "data": {
      "text/plain": [
       "[(1, 2), (3, 14)]"
      ]
     },
     "execution_count": 197,
     "metadata": {},
     "output_type": "execute_result"
    }
   ],
   "source": [
    "data.groupByKey().mapValues(sum).collect()"
   ]
  },
  {
   "cell_type": "markdown",
   "id": "738d6fc6",
   "metadata": {},
   "source": [
    "#### Note :-\n",
    "1. **reduceByKey() = groupByKey().mapValues()**"
   ]
  },
  {
   "cell_type": "markdown",
   "id": "87b4af1d",
   "metadata": {},
   "source": [
    "#### flatMapValues()\n",
    "1. Increase the RDD length by adding some values."
   ]
  },
  {
   "cell_type": "code",
   "execution_count": 198,
   "id": "5d03458a",
   "metadata": {},
   "outputs": [
    {
     "data": {
      "text/plain": [
       "[(1, 2), (3, 4), (3, 6), (3, 4)]"
      ]
     },
     "execution_count": 198,
     "metadata": {},
     "output_type": "execute_result"
    }
   ],
   "source": [
    "data.collect()"
   ]
  },
  {
   "cell_type": "code",
   "execution_count": 199,
   "id": "b14fa52b",
   "metadata": {},
   "outputs": [
    {
     "data": {
      "text/plain": [
       "[(1, 1),\n",
       " (3, 1),\n",
       " (3, 2),\n",
       " (3, 3),\n",
       " (3, 1),\n",
       " (3, 2),\n",
       " (3, 3),\n",
       " (3, 4),\n",
       " (3, 5),\n",
       " (3, 1),\n",
       " (3, 2),\n",
       " (3, 3)]"
      ]
     },
     "execution_count": 199,
     "metadata": {},
     "output_type": "execute_result"
    }
   ],
   "source": [
    "data.flatMapValues(lambda x:range(1,x)).collect()"
   ]
  },
  {
   "cell_type": "markdown",
   "id": "f5b450f9",
   "metadata": {},
   "source": [
    "#### subtractByKey()\n",
    "1. It subtract the RDD details by keys."
   ]
  },
  {
   "cell_type": "code",
   "execution_count": 203,
   "id": "51413b83",
   "metadata": {},
   "outputs": [
    {
     "data": {
      "text/plain": [
       "[(3, 9)]"
      ]
     },
     "execution_count": 203,
     "metadata": {},
     "output_type": "execute_result"
    }
   ],
   "source": [
    "data2 = sc.parallelize([(3,9)])\n",
    "data2.collect()"
   ]
  },
  {
   "cell_type": "code",
   "execution_count": 204,
   "id": "280f5414",
   "metadata": {},
   "outputs": [
    {
     "data": {
      "text/plain": [
       "[(1, 2)]"
      ]
     },
     "execution_count": 204,
     "metadata": {},
     "output_type": "execute_result"
    }
   ],
   "source": [
    "data.subtractByKey(data2).collect()"
   ]
  },
  {
   "cell_type": "code",
   "execution_count": 206,
   "id": "79ba4dc7",
   "metadata": {},
   "outputs": [
    {
     "data": {
      "text/plain": [
       "[]"
      ]
     },
     "execution_count": 206,
     "metadata": {},
     "output_type": "execute_result"
    }
   ],
   "source": [
    "data2.subtractByKey(data).collect()"
   ]
  },
  {
   "cell_type": "markdown",
   "id": "d2fb9c24",
   "metadata": {},
   "source": [
    "#### Join():-\n",
    "1. It perform join operations on RDD's.\n",
    "    - Inner Join\n",
    "    - Left Outer Join\n",
    "    - Right Outer Join"
   ]
  },
  {
   "cell_type": "code",
   "execution_count": 207,
   "id": "be711e62",
   "metadata": {},
   "outputs": [
    {
     "data": {
      "text/plain": [
       "[(1, 2), (3, 4), (3, 6), (3, 4)]"
      ]
     },
     "execution_count": 207,
     "metadata": {},
     "output_type": "execute_result"
    }
   ],
   "source": [
    "data.collect()"
   ]
  },
  {
   "cell_type": "code",
   "execution_count": 208,
   "id": "7f31118f",
   "metadata": {},
   "outputs": [
    {
     "data": {
      "text/plain": [
       "[(3, 9), (4, 15)]"
      ]
     },
     "execution_count": 208,
     "metadata": {},
     "output_type": "execute_result"
    }
   ],
   "source": [
    "data4 = sc.parallelize([(3,9),(4,15)])\n",
    "data4.collect()"
   ]
  },
  {
   "cell_type": "markdown",
   "id": "f2f0cbd6",
   "metadata": {},
   "source": [
    "##### Inner Join"
   ]
  },
  {
   "cell_type": "code",
   "execution_count": 209,
   "id": "039f7763",
   "metadata": {},
   "outputs": [
    {
     "data": {
      "text/plain": [
       "[(3, (4, 9)), (3, (6, 9)), (3, (4, 9))]"
      ]
     },
     "execution_count": 209,
     "metadata": {},
     "output_type": "execute_result"
    }
   ],
   "source": [
    "data.join(data4).collect() ## inner join"
   ]
  },
  {
   "cell_type": "code",
   "execution_count": 210,
   "id": "3289eabb",
   "metadata": {},
   "outputs": [
    {
     "data": {
      "text/plain": [
       "[(3, (9, 4)), (3, (9, 6)), (3, (9, 4))]"
      ]
     },
     "execution_count": 210,
     "metadata": {},
     "output_type": "execute_result"
    }
   ],
   "source": [
    "data4.join(data).collect()"
   ]
  },
  {
   "cell_type": "markdown",
   "id": "10352cdb",
   "metadata": {},
   "source": [
    "##### Right Outer Join \n",
    "- Perfrom a join between two RDD's where key must be present in first RDD.(Right side RDD)"
   ]
  },
  {
   "cell_type": "code",
   "execution_count": 211,
   "id": "62eb1439",
   "metadata": {},
   "outputs": [
    {
     "data": {
      "text/plain": [
       "[(4, (None, 15)), (3, (4, 9)), (3, (6, 9)), (3, (4, 9))]"
      ]
     },
     "execution_count": 211,
     "metadata": {},
     "output_type": "execute_result"
    }
   ],
   "source": [
    "data.rightOuterJoin(data4).collect()"
   ]
  },
  {
   "cell_type": "code",
   "execution_count": 212,
   "id": "d3d79595",
   "metadata": {},
   "outputs": [
    {
     "data": {
      "text/plain": [
       "[(3, (9, 4)), (3, (9, 6)), (3, (9, 4)), (1, (None, 2))]"
      ]
     },
     "execution_count": 212,
     "metadata": {},
     "output_type": "execute_result"
    }
   ],
   "source": [
    "data4.rightOuterJoin(data).collect()"
   ]
  },
  {
   "cell_type": "markdown",
   "id": "9216ac86",
   "metadata": {},
   "source": [
    "##### Left Outer Join \n",
    "- Perfrom a join between two RDD's where key must be present in OTHERSIDE of RDD.(Left side RDD)"
   ]
  },
  {
   "cell_type": "code",
   "execution_count": 213,
   "id": "8eca7eb1",
   "metadata": {},
   "outputs": [
    {
     "data": {
      "text/plain": [
       "[(1, (2, None)), (3, (4, 9)), (3, (6, 9)), (3, (4, 9))]"
      ]
     },
     "execution_count": 213,
     "metadata": {},
     "output_type": "execute_result"
    }
   ],
   "source": [
    "data.leftOuterJoin(data4).collect()"
   ]
  },
  {
   "cell_type": "code",
   "execution_count": 215,
   "id": "ba36a9d7",
   "metadata": {},
   "outputs": [
    {
     "data": {
      "text/plain": [
       "[(4, (15, None)), (3, (9, 4)), (3, (9, 6)), (3, (9, 4))]"
      ]
     },
     "execution_count": 215,
     "metadata": {},
     "output_type": "execute_result"
    }
   ],
   "source": [
    "data4.leftOuterJoin(data).collect()"
   ]
  },
  {
   "cell_type": "code",
   "execution_count": 216,
   "id": "7519bdbc",
   "metadata": {},
   "outputs": [],
   "source": [
    "sc.stop()"
   ]
  },
  {
   "cell_type": "code",
   "execution_count": null,
   "id": "620172d3",
   "metadata": {},
   "outputs": [],
   "source": []
  },
  {
   "cell_type": "code",
   "execution_count": null,
   "id": "a681c2a1",
   "metadata": {},
   "outputs": [],
   "source": []
  },
  {
   "cell_type": "code",
   "execution_count": null,
   "id": "86cd964d",
   "metadata": {},
   "outputs": [],
   "source": []
  },
  {
   "cell_type": "code",
   "execution_count": null,
   "id": "43bf2538",
   "metadata": {},
   "outputs": [],
   "source": []
  },
  {
   "cell_type": "code",
   "execution_count": null,
   "id": "340676fd",
   "metadata": {},
   "outputs": [],
   "source": []
  },
  {
   "cell_type": "code",
   "execution_count": null,
   "id": "25726d71",
   "metadata": {},
   "outputs": [],
   "source": []
  },
  {
   "cell_type": "code",
   "execution_count": null,
   "id": "f5bd37fa",
   "metadata": {},
   "outputs": [],
   "source": []
  }
 ],
 "metadata": {
  "kernelspec": {
   "display_name": "Python 3",
   "language": "python",
   "name": "python3"
  },
  "language_info": {
   "codemirror_mode": {
    "name": "ipython",
    "version": 3
   },
   "file_extension": ".py",
   "mimetype": "text/x-python",
   "name": "python",
   "nbconvert_exporter": "python",
   "pygments_lexer": "ipython3",
   "version": "3.8.8"
  }
 },
 "nbformat": 4,
 "nbformat_minor": 5
}
